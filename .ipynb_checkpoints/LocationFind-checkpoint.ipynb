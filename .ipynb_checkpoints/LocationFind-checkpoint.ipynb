{
 "cells": [
  {
   "cell_type": "code",
   "execution_count": 1,
   "metadata": {
    "ExecuteTime": {
     "end_time": "2019-05-30T06:38:31.401944Z",
     "start_time": "2019-05-30T06:38:30.377715Z"
    }
   },
   "outputs": [],
   "source": [
    "import thulac\n",
    "import jieba\n",
    "import re\n",
    "import pandas as pd"
   ]
  },
  {
   "cell_type": "code",
   "execution_count": 2,
   "metadata": {
    "ExecuteTime": {
     "end_time": "2019-05-30T06:39:06.788553Z",
     "start_time": "2019-05-30T06:39:03.215496Z"
    }
   },
   "outputs": [
    {
     "name": "stdout",
     "output_type": "stream",
     "text": [
      "Model loaded succeed\n"
     ]
    }
   ],
   "source": [
    "Loc=thulac.thulac()"
   ]
  },
  {
   "cell_type": "raw",
   "metadata": {},
   "source": [
    "n/名词 np/人名 ns/地名 ni/机构名 nz/其它专名\n",
    "m/数词 q/量词 mq/数量词 t/时间词 f/方位词 s/处所词\n",
    "v/动词 a/形容词 d/副词 h/前接成分 k/后接成分 i/习语 \n",
    "j/简称 r/代词 c/连词 p/介词 u/助词 y/语气助词\n",
    "e/叹词 o/拟声词 g/语素 w/标点 x/其它"
   ]
  },
  {
   "cell_type": "code",
   "execution_count": 7,
   "metadata": {
    "ExecuteTime": {
     "end_time": "2019-05-30T06:47:47.128638Z",
     "start_time": "2019-05-30T06:47:46.983732Z"
    },
    "code_folding": [
     1
    ],
    "collapsed": true
   },
   "outputs": [
    {
     "name": "stdout",
     "output_type": "stream",
     "text": [
      "2018年 t 0 5\n",
      "9月 t 5 7\n",
      "16日 t 7 10\n",
      "， w 10 11\n",
      "香港 ns 11 13\n",
      "， w 13 14\n",
      "台风 n 14 16\n",
      "“ w 16 17\n",
      "山竹 n 17 19\n",
      "” w 19 20\n",
      "正在 d 20 22\n",
      "继续 v 22 24\n",
      "稳定 a 24 26\n",
      "地 u 26 27\n",
      "移 v 27 28\n",
      "向 p 28 29\n",
      "广东 ns 29 31\n",
      "西部 f 31 33\n",
      "沿岸 f 33 35\n",
      "， w 35 36\n",
      "进一步 d 36 39\n",
      "逼近 v 39 41\n",
      "香港 ns 41 43\n",
      "， w 43 44\n",
      "带 v 44 45\n",
      "来 v 45 46\n",
      "狂风暴雨 i 46 50\n",
      "。 w 50 51\n",
      "香港 ns 51 53\n",
      "天文台 n 53 56\n",
      "自 p 56 57\n",
      "16日 t 57 60\n",
      "凌晨 t 60 62\n",
      "起 v 62 63\n",
      "数 m 63 64\n",
      "小时 n 64 66\n",
      "内 f 66 67\n",
      "3 m 67 68\n",
      "次 q 68 69\n",
      "升级 v 69 71\n",
      "热带 n 71 73\n",
      "气旋 n 73 75\n",
      "警告 v 75 77\n",
      "信号 n 77 79\n",
      "， w 79 80\n",
      "上午 t 80 82\n",
      "9时 t 82 84\n",
      "40分 t 84 87\n",
      "发出 v 87 89\n",
      "最高 a 89 91\n",
      "级别 n 91 93\n",
      "的 u 93 94\n",
      "十 m 94 95\n",
      "号 q 95 96\n",
      "飓风 n 96 98\n",
      "信号 n 98 100\n",
      "。 w 100 101\n"
     ]
    }
   ],
   "source": [
    "#编写的thulac的切分词函数，得到词，标签，起始位置和结束位置\n",
    "def tokenize_thu(unicode_sentence):\n",
    "    \n",
    "    \"\"\"\n",
    "    Tokenize a sentence and yields tuples of (word, tag, start, end)\n",
    "    Parameter:\n",
    "        - sentence: the str(unicode) to be segmented.\n",
    "    \"\"\"\n",
    "    start = 0\n",
    "    for i in Loc.cut(unicode_sentence):\n",
    "        w = i[0]\n",
    "        tag = i[1]\n",
    "        width = len(w)\n",
    "        yield (w, tag, start, start + width)\n",
    "        start += width\n",
    "        \n",
    "#example\n",
    "a=tokenize_thu('2018年9月16日，香港，台风“山竹”正在继续稳定地移向广东西部沿岸，进一步逼近香港，带来狂风暴雨。香港天文台自16日凌晨起数小时内3次升级热带气旋警告信号，上午9时40分发出最高级别的十号飓风信号。')\n",
    "for i,j,k,l in a:\n",
    "    print(i,j,k,l)"
   ]
  },
  {
   "cell_type": "code",
   "execution_count": null,
   "metadata": {},
   "outputs": [],
   "source": []
  }
 ],
 "metadata": {
  "kernelspec": {
   "display_name": "Python 3",
   "language": "python",
   "name": "python3"
  },
  "language_info": {
   "codemirror_mode": {
    "name": "ipython",
    "version": 3
   },
   "file_extension": ".py",
   "mimetype": "text/x-python",
   "name": "python",
   "nbconvert_exporter": "python",
   "pygments_lexer": "ipython3",
   "version": "3.6.8"
  },
  "toc": {
   "base_numbering": 1,
   "nav_menu": {},
   "number_sections": true,
   "sideBar": true,
   "skip_h1_title": false,
   "title_cell": "Table of Contents",
   "title_sidebar": "Contents",
   "toc_cell": false,
   "toc_position": {},
   "toc_section_display": true,
   "toc_window_display": false
  },
  "varInspector": {
   "cols": {
    "lenName": 16,
    "lenType": 16,
    "lenVar": 40
   },
   "kernels_config": {
    "python": {
     "delete_cmd_postfix": "",
     "delete_cmd_prefix": "del ",
     "library": "var_list.py",
     "varRefreshCmd": "print(var_dic_list())"
    },
    "r": {
     "delete_cmd_postfix": ") ",
     "delete_cmd_prefix": "rm(",
     "library": "var_list.r",
     "varRefreshCmd": "cat(var_dic_list()) "
    }
   },
   "types_to_exclude": [
    "module",
    "function",
    "builtin_function_or_method",
    "instance",
    "_Feature"
   ],
   "window_display": false
  }
 },
 "nbformat": 4,
 "nbformat_minor": 2
}
